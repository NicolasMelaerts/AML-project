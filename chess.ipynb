{
 "cells": [
  {
   "cell_type": "code",
   "execution_count": null,
   "metadata": {},
   "outputs": [],
   "source": [
    "# Commande pour intaller les librairies utiles :\n",
    "# pip install python-chess gym gym-chess stable-baselines3 torch numpy matplotlib pygame pandas\n"
   ]
  },
  {
   "cell_type": "code",
   "execution_count": 3,
   "metadata": {},
   "outputs": [],
   "source": [
    "# Bibliothèques pour la gestion des échecs\n",
    "import chess\n",
    "import chess.svg\n",
    "\n",
    "# Bibliothèque pour l'environnement gym-chess\n",
    "import gym\n",
    "import gym_chess\n",
    "\n",
    "# Bibliothèques pour l'apprentissage par renforcement\n",
    "from stable_baselines3 import DQN\n",
    "\n",
    "# Bibliothèques pour les réseaux de neurones\n",
    "import torch\n",
    "\n",
    "# Bibliothèques pour les calculs numériques\n",
    "import numpy as np\n",
    "\n",
    "# Bibliothèque pour les graphiques\n",
    "import matplotlib.pyplot as plt\n",
    "\n",
    "# Bibliothèque pour les analyses de données\n",
    "import pandas as pd\n",
    "\n",
    "# Bibliothèque pour les interfaces graphiques (optionnelle)\n",
    "import pygame\n"
   ]
  },
  {
   "cell_type": "code",
   "execution_count": null,
   "metadata": {},
   "outputs": [],
   "source": []
  }
 ],
 "metadata": {
  "kernelspec": {
   "display_name": "3.10.1",
   "language": "python",
   "name": "python3"
  },
  "language_info": {
   "codemirror_mode": {
    "name": "ipython",
    "version": 3
   },
   "file_extension": ".py",
   "mimetype": "text/x-python",
   "name": "python",
   "nbconvert_exporter": "python",
   "pygments_lexer": "ipython3",
   "version": "3.10.1"
  }
 },
 "nbformat": 4,
 "nbformat_minor": 2
}
